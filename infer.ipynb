{
 "cells": [
  {
   "cell_type": "code",
   "execution_count": 1,
   "metadata": {},
   "outputs": [],
   "source": [
    "import tensorflow as tf\n",
    "from matplotlib import pyplot\n",
    "\n",
    "from util import define_flags, flags, pool_size\n",
    "define_flags()\n",
    "from provider import get_input, charsets\n",
    "from model import foward"
   ]
  },
  {
   "cell_type": "markdown",
   "metadata": {},
   "source": [
    "# build graph with simple tensor"
   ]
  },
  {
   "cell_type": "code",
   "execution_count": 2,
   "metadata": {},
   "outputs": [
    {
     "name": "stdout",
     "output_type": "stream",
     "text": [
      "INFO:tensorflow:cnn_net shape: (1, 4, ?, 512)\n",
      "INFO:tensorflow:after reshape cnn, shape: (1, ?, 2048)\n",
      "INFO:tensorflow:after lstm shape: (1, ?, 512)\n",
      "INFO:tensorflow:fc_out shape: (1, ?, 37)\n",
      "INFO:tensorflow:lstm_out shape: (1, ?, 37)\n"
     ]
    }
   ],
   "source": [
    "image_input_tensor = tf.placeholder(tf.float32, shape=[flags.FLAGS.image_height, None, 3], name='image_input')\n",
    "\n",
    "shape = tf.shape(image_input_tensor)\n",
    "image_width_tensor = shape[1]\n",
    "images_tensor = tf.expand_dims(image_input_tensor, 0)\n",
    "image_widths_tensor = tf.expand_dims(image_width_tensor, 0)\n",
    "\n",
    "logprob = foward(images=images_tensor, is_training=False)\n",
    "seq_len_inputs = tf.divide(image_widths_tensor, pool_size, name='seq_len_input_op') - 1\n",
    "sparse_code_pred, log_probability = \\\n",
    "    tf.nn.ctc_greedy_decoder(logprob, sequence_length=tf.cast(seq_len_inputs, tf.int32))\n",
    "sparse_code_pred = sparse_code_pred[0]"
   ]
  },
  {
   "cell_type": "markdown",
   "metadata": {},
   "source": [
    "# create session"
   ]
  },
  {
   "cell_type": "code",
   "execution_count": 3,
   "metadata": {},
   "outputs": [],
   "source": [
    "sess = tf.InteractiveSession()"
   ]
  },
  {
   "cell_type": "markdown",
   "metadata": {},
   "source": [
    "# restore tensor from checkpoint"
   ]
  },
  {
   "cell_type": "code",
   "execution_count": 4,
   "metadata": {
    "scrolled": true
   },
   "outputs": [
    {
     "name": "stdout",
     "output_type": "stream",
     "text": [
      "INFO:tensorflow:Restoring parameters from logs/model.ckpt-100000\n"
     ]
    }
   ],
   "source": [
    "logdir = 'logs/'\n",
    "sess.run(tf.global_variables_initializer())\n",
    "ckpt = tf.train.latest_checkpoint(logdir)\n",
    "\n",
    "saver = tf.train.Saver()\n",
    "saver.restore(sess, ckpt)"
   ]
  },
  {
   "cell_type": "markdown",
   "metadata": {},
   "source": [
    "# generate fake image && infer"
   ]
  },
  {
   "cell_type": "code",
   "execution_count": 5,
   "metadata": {
    "scrolled": true
   },
   "outputs": [
    {
     "name": "stdout",
     "output_type": "stream",
     "text": [
      "label text: zqgipo\n"
     ]
    },
    {
     "data": {
      "image/png": "[encoded data removed]",
      "text/plain": [
       "<matplotlib.figure.Figure at 0x1164dc450>"
      ]
     },
     "metadata": {},
     "output_type": "display_data"
    },
    {
     "name": "stdout",
     "output_type": "stream",
     "text": [
      "predict result: zqgipo\n"
     ]
    }
   ],
   "source": [
    "images, image_widths, labels = sess.run(get_input())\n",
    "labels = sess.run(tf.sparse_to_dense(labels.indices, labels.dense_shape, labels.values, default_value=-1))\n",
    "labels = [''.join([charsets[i] for i in l if i != -1]) for l in labels]\n",
    "\n",
    "label = labels[0]\n",
    "image = images[0]\n",
    "\n",
    "print('label text: %s' % label)\n",
    "pyplot.imshow(image)\n",
    "pyplot.show()\n",
    "\n",
    "sparse_pred = sess.run(sparse_code_pred, feed_dict={image_input_tensor: image})\n",
    "sparse_pred_values = ''.join([charsets[v] for v in sparse_pred.values])\n",
    "print('predict result: %s' % sparse_pred_values)"
   ]
  }
 ],
 "metadata": {
  "kernelspec": {
   "display_name": "py.ai",
   "language": "python",
   "name": "py.ai"
  },
  "language_info": {
   "codemirror_mode": {
    "name": "ipython",
    "version": 2
   },
   "file_extension": ".py",
   "mimetype": "text/x-python",
   "name": "python",
   "nbconvert_exporter": "python",
   "pygments_lexer": "ipython2",
   "version": "2.7.14"
  },
  "varInspector": {
   "cols": {
    "lenName": 16,
    "lenType": 16,
    "lenVar": 40
   },
   "kernels_config": {
    "python": {
     "delete_cmd_postfix": "",
     "delete_cmd_prefix": "del ",
     "library": "var_list.py",
     "varRefreshCmd": "print(var_dic_list())"
    },
    "r": {
     "delete_cmd_postfix": ") ",
     "delete_cmd_prefix": "rm(",
     "library": "var_list.r",
     "varRefreshCmd": "cat(var_dic_list()) "
    }
   },
   "types_to_exclude": [
    "module",
    "function",
    "builtin_function_or_method",
    "instance",
    "_Feature"
   ],
   "window_display": false
  }
 },
 "nbformat": 4,
 "nbformat_minor": 1
}
